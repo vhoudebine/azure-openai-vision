{
 "cells": [
  {
   "cell_type": "code",
   "execution_count": 3,
   "metadata": {},
   "outputs": [
    {
     "name": "stdout",
     "output_type": "stream",
     "text": [
      "Requirement already satisfied: opencv-python in /home/vhoudebine/miniconda3/envs/openai/lib/python3.11/site-packages (4.9.0.80)\n",
      "Requirement already satisfied: numpy>=1.21.2 in /home/vhoudebine/miniconda3/envs/openai/lib/python3.11/site-packages (from opencv-python) (1.26.4)\n",
      "Note: you may need to restart the kernel to use updated packages.\n",
      "Requirement already satisfied: opencv-python in /home/vhoudebine/miniconda3/envs/openai/lib/python3.11/site-packages (4.9.0.80)\n",
      "Requirement already satisfied: numpy>=1.21.2 in /home/vhoudebine/miniconda3/envs/openai/lib/python3.11/site-packages (from opencv-python) (1.26.4)\n",
      "Note: you may need to restart the kernel to use updated packages.\n",
      "Requirement already satisfied: numpy in /home/vhoudebine/miniconda3/envs/openai/lib/python3.11/site-packages (1.26.4)\n",
      "Note: you may need to restart the kernel to use updated packages.\n",
      "Requirement already satisfied: pip in /home/vhoudebine/miniconda3/envs/openai/lib/python3.11/site-packages (24.0)\n",
      "Collecting install\n",
      "  Downloading install-1.3.5-py3-none-any.whl.metadata (925 bytes)\n",
      "Collecting PyMuPDF\n",
      "  Downloading PyMuPDF-1.24.1-cp311-none-manylinux2014_x86_64.whl.metadata (3.4 kB)\n",
      "Collecting PyMuPDFb==1.24.1 (from PyMuPDF)\n",
      "  Downloading PyMuPDFb-1.24.1-py3-none-manylinux2014_x86_64.manylinux_2_17_x86_64.whl.metadata (1.4 kB)\n",
      "Downloading install-1.3.5-py3-none-any.whl (3.2 kB)\n",
      "Downloading PyMuPDF-1.24.1-cp311-none-manylinux2014_x86_64.whl (3.9 MB)\n",
      "\u001b[2K   \u001b[90m━━━━━━━━━━━━━━━━━━━━━━━━━━━━━━━━━━━━━━━━\u001b[0m \u001b[32m3.9/3.9 MB\u001b[0m \u001b[31m31.0 MB/s\u001b[0m eta \u001b[36m0:00:00\u001b[0ma \u001b[36m0:00:01\u001b[0m\n",
      "\u001b[?25hDownloading PyMuPDFb-1.24.1-py3-none-manylinux2014_x86_64.manylinux_2_17_x86_64.whl (30.8 MB)\n",
      "\u001b[2K   \u001b[90m━━━━━━━━━━━━━━━━━━━━━━━━━━━━━━━━━━━━━━━━\u001b[0m \u001b[32m30.8/30.8 MB\u001b[0m \u001b[31m33.7 MB/s\u001b[0m eta \u001b[36m0:00:00\u001b[0m00:01\u001b[0m00:01\u001b[0m\n",
      "\u001b[?25hInstalling collected packages: PyMuPDFb, install, PyMuPDF\n",
      "Successfully installed PyMuPDF-1.24.1 PyMuPDFb-1.24.1 install-1.3.5\n",
      "Note: you may need to restart the kernel to use updated packages.\n"
     ]
    }
   ],
   "source": [
    "%pip install opencv-python\n",
    "%pip install opencv-python\n",
    "%pip install numpy\n",
    "%pip install pip install PyMuPDF"
   ]
  },
  {
   "cell_type": "code",
   "execution_count": 2,
   "metadata": {},
   "outputs": [],
   "source": [
    "import os\n",
    "import fitz # PyMuPDF\n",
    "import cv2\n",
    "import numpy as np"
   ]
  },
  {
   "cell_type": "code",
   "execution_count": 3,
   "metadata": {},
   "outputs": [
    {
     "name": "stdout",
     "output_type": "stream",
     "text": [
      "stamppdf1\n"
     ]
    }
   ],
   "source": [
    "# Your original string\n",
    "path = \"isastamp/stamppdf1.pdf\"\n",
    "\n",
    "# Extract the filename with extension\n",
    "filename_with_extension = os.path.basename(path)\n",
    "\n",
    "# Remove the extension to get just the filename\n",
    "filename = os.path.splitext(filename_with_extension)[0]\n",
    "\n",
    "print(filename)"
   ]
  },
  {
   "cell_type": "code",
   "execution_count": 4,
   "metadata": {},
   "outputs": [],
   "source": [
    "def extract_stamp_as_image(pdf_path):\n",
    "    # Open the PDF file\n",
    "    doc = fitz.open(pdf_path)\n",
    "\n",
    "    # Get the last page\n",
    "    last_page = doc.load_page(doc.page_count - 1)\n",
    "\n",
    "    # Option 1: Adjust DPI\n",
    "    dpi = 90\n",
    "    pix = last_page.get_pixmap(dpi=dpi)\n",
    "\n",
    "    # Option 2: Apply Zoom Level\n",
    "    zoom = 1.5\n",
    "    magnify = fitz.Matrix(zoom, zoom)\n",
    "    pix = last_page.get_pixmap(matrix=magnify)\n",
    "\n",
    "    # Convert the pixmap to a NumPy array with the correct data type\n",
    "    img = np.frombuffer(pix.samples, dtype=np.uint8).reshape(pix.h, pix.w, pix.n)\n",
    "\n",
    "    # Ensure the image is in BGR format for OpenCV\n",
    "    img = cv2.cvtColor(img, cv2.COLOR_BGRA2BGR)\n",
    "\n",
    "    # Define the bottom left corner coordinates and size of the stamp\n",
    "    # These values might need adjustment based on the actual size and position of the stamp\n",
    "    bottom_left = (10, img.shape[0] - 350) # Adjust the x and y coordinates as needed\n",
    "    stamp_size = (570, 300) # Adjust the width and height as needed\n",
    "\n",
    "    # Extract the stamp\n",
    "    stamp = img[bottom_left[1]:bottom_left[1] + stamp_size[1], bottom_left[0]:bottom_left[0] + stamp_size[0]]\n",
    "\n",
    "    # Extract the filename with extension\n",
    "    filename_with_extension = os.path.basename(pdf_path)\n",
    "\n",
    "    # Remove the extension to get just the filename\n",
    "    filename = os.path.splitext(filename_with_extension)[0]\n",
    "\n",
    "    # Save the extracted stamp\n",
    "    cv2.imwrite(f\"extracted_stamps/{filename}.png\", stamp)"
   ]
  },
  {
   "cell_type": "code",
   "execution_count": 8,
   "metadata": {},
   "outputs": [],
   "source": [
    "\n",
    "# Define the folder path and the image name\n",
    "target_path = 'extracted_stamps/'\n",
    "\n",
    "# Check if the folder exists, if not, create it\n",
    "if not os.path.exists(target_path):\n",
    "    os.makedirs(target_path)\n",
    "\n",
    "# Testing single file\n",
    "# extract_stamp_as_image(\"test.pdf\")\n",
    "\n",
    "# Specify the directory containing the PDF files\n",
    "directory = 'IsNotAStamp'\n",
    "\n",
    "# Iterate over all files in the directory\n",
    "for file in os.listdir(directory):\n",
    "    # Check if the file is a PDF\n",
    "    # Construct the full path to the PDF file\n",
    "    pdf_path = os.path.join(directory, file)\n",
    "    # Call the function on the PDF file\n",
    "    extract_stamp_as_image(pdf_path)\n",
    "      "
   ]
  },
  {
   "cell_type": "code",
   "execution_count": null,
   "metadata": {},
   "outputs": [],
   "source": []
  }
 ],
 "metadata": {
  "kernelspec": {
   "display_name": "Python 3",
   "language": "python",
   "name": "python3"
  },
  "language_info": {
   "codemirror_mode": {
    "name": "ipython",
    "version": 3
   },
   "file_extension": ".py",
   "mimetype": "text/x-python",
   "name": "python",
   "nbconvert_exporter": "python",
   "pygments_lexer": "ipython3",
   "version": "3.11.8"
  }
 },
 "nbformat": 4,
 "nbformat_minor": 2
}

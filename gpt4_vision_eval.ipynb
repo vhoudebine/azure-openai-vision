{
 "cells": [
  {
   "cell_type": "code",
   "execution_count": null,
   "metadata": {},
   "outputs": [],
   "source": [
    "import base64\n",
    "import datetime\n",
    "import json\n",
    "import openai\n",
    "import os\n",
    "import requests\n",
    "import sys\n",
    "\n",
    "from dotenv import load_dotenv\n",
    "from io import BytesIO\n",
    "from PIL import Image"
   ]
  },
  {
   "cell_type": "code",
   "execution_count": null,
   "metadata": {},
   "outputs": [],
   "source": [
    "def check_openai_version():\n",
    "    \"\"\"\n",
    "    Check Azure Open AI version\n",
    "    \"\"\"\n",
    "    installed_version = openai.__version__\n",
    "\n",
    "    try:\n",
    "        version_number = float(installed_version[:3])\n",
    "    except ValueError:\n",
    "        print(\"Invalid OpenAI version format\")\n",
    "        return\n",
    "\n",
    "    print(f\"Installed OpenAI version: {installed_version}\")\n",
    "\n",
    "    if version_number < 1.0:\n",
    "        print(\"[Warning] You should upgrade OpenAI to have version >= 1.0.0\")\n",
    "        print(\"To upgrade, run: %pip install openai --upgrade\")\n",
    "    else:\n",
    "        print(f\"[OK] OpenAI version {installed_version} is >= 1.0.0\")"
   ]
  },
  {
   "cell_type": "code",
   "execution_count": null,
   "metadata": {},
   "outputs": [],
   "source": [
    "check_openai_version()\n"
   ]
  },
  {
   "cell_type": "code",
   "execution_count": null,
   "metadata": {},
   "outputs": [],
   "source": [
    "load_dotenv(\".env\")\n",
    "\n",
    "# Azure Open AI\n",
    "openai.api_type: str = \"azure\"\n",
    "openai.api_key = os.getenv(\"AZURE_OPENAI_API_KEY\")\n",
    "openai.api_base = os.getenv(\"AZURE_OPENAI_ENDPOINT\")"
   ]
  },
  {
   "cell_type": "code",
   "execution_count": null,
   "metadata": {},
   "outputs": [],
   "source": [
    "model = \"viz\"  # This is the deployed name of your GPT4 Vision model from the Azure Open AI studio\n"
   ]
  },
  {
   "cell_type": "code",
   "execution_count": null,
   "metadata": {},
   "outputs": [],
   "source": [
    "def image_view(image_file):\n",
    "    \"\"\"\n",
    "    View image\n",
    "    \"\"\"\n",
    "    if not os.path.exists(image_file):\n",
    "        print(f\"[Error] Image file {image_file} does not exist.\")\n",
    "        return None\n",
    "\n",
    "    else:\n",
    "        print(image_file)\n",
    "        img = Image.open(image_file)\n",
    "        display(img)"
   ]
  },
  {
   "cell_type": "code",
   "execution_count": null,
   "metadata": {},
   "outputs": [],
   "source": [
    "image_view('./extracted_stamps/Yale-HOT-StudentForm-StampExample1.png')"
   ]
  },
  {
   "cell_type": "code",
   "execution_count": null,
   "metadata": {},
   "outputs": [],
   "source": [
    "from tenacity import retry, stop_after_attempt, wait_fixed \n",
    "\n",
    "\n",
    "@retry(wait=wait_fixed(35), stop=stop_after_attempt(3))\n",
    "def gpt4V(image_file):\n",
    "    \"\"\"\n",
    "    GPT4-Vision\n",
    "    \"\"\"\n",
    "    # Checking if file exists\n",
    "    if not os.path.exists(image_file):\n",
    "        print(f\"[Error] Image file {image_file} does not exist.\")\n",
    "        return None\n",
    "\n",
    "    # Endpoint\n",
    "    base_url = f\"{openai.api_base}/openai/deployments/{model}\"\n",
    "    gpt4vision_endpoint = f\"{base_url}/chat/completions?api-version=2023-12-01-preview\"\n",
    "\n",
    "    # Header\n",
    "    headers = {\"Content-Type\": \"application/json\", \"api-key\": openai.api_key}\n",
    "\n",
    "    # Encoded image\n",
    "    base_64_encoded_image = base64.b64encode(open(image_file, \"rb\").read()).decode(\n",
    "        \"ascii\"\n",
    "    )\n",
    "\n",
    "    context = \"\"\" \n",
    "    You are a administrative assistant capable of reviewing images of medical forms.\n",
    "    A user uploads an image and asks you whether it contains a doctor stamp or not\n",
    "    \"\"\"\n",
    "\n",
    "    prompt = \"\"\"\n",
    "    You respond with yes or no, don't provide any other information.\n",
    "    The output should only be 'Yes' if the image contains a doctor stamp, and 'No' if it does not.\n",
    "    \"\"\"\n",
    "\n",
    "    # Prompt\n",
    "    json_data = {\n",
    "        \"messages\": [\n",
    "            {\"role\": \"system\", \"content\": context},\n",
    "            {\"role\": \"user\", \"content\": [prompt, {\"image\": base_64_encoded_image}]},\n",
    "        ],\n",
    "        \"max_tokens\": 4000,\n",
    "        \"temperature\": 0.7,\n",
    "    }\n",
    "\n",
    "    # Results\n",
    "    response = requests.post(\n",
    "        gpt4vision_endpoint, headers=headers, data=json.dumps(json_data)\n",
    "    )\n",
    "\n",
    "    if response.status_code == 200:\n",
    "        now = str(datetime.datetime.today().strftime(\"%d-%b-%Y %H:%M:%S\"))\n",
    "        print(f\"Analysis of image: {image_file}\")\n",
    "        resp = json.loads(response.text)[\"choices\"][0][\"message\"][\"content\"]\n",
    "        print(resp)\n",
    "        return resp\n",
    "        \n",
    "\n",
    "    elif response.status_code == 429:\n",
    "        print(\n",
    "           response.text\n",
    "        )\n",
    "        raise Exception(\"Too many requests. Please wait and try again.\")\n",
    "\n",
    "    else:\n",
    "        print(\"[Error] Error code:\", response.status_code)"
   ]
  },
  {
   "cell_type": "code",
   "execution_count": null,
   "metadata": {},
   "outputs": [],
   "source": [
    "import os\n",
    "import pandas as pd\n",
    "\n",
    "folder_path = './extracted_stamps'\n",
    "\n",
    "file_paths = []\n",
    "stamps = []\n",
    "\n",
    "for root, dirs, files in os.walk(folder_path):\n",
    "    for file in files:\n",
    "        file_path = os.path.join(root, file)\n",
    "        file_paths.append(file_path)\n",
    "        if 'NotAStampExample' in file_path:\n",
    "            stamps.append(0)\n",
    "        else:\n",
    "            stamps.append(1)\n",
    "\n",
    "df = pd.DataFrame({'file_path': file_paths, 'stamp': stamps})\n",
    "\n",
    "df.head()"
   ]
  },
  {
   "cell_type": "code",
   "execution_count": null,
   "metadata": {},
   "outputs": [],
   "source": [
    "df['prediction'] = df['file_path'].apply(gpt4V).replace({'Yes': 1, 'No': 0})"
   ]
  },
  {
   "cell_type": "code",
   "execution_count": null,
   "metadata": {},
   "outputs": [],
   "source": [
    "df['correct'] = df['stamp'] == df['prediction']"
   ]
  },
  {
   "cell_type": "code",
   "execution_count": null,
   "metadata": {},
   "outputs": [],
   "source": [
    "accuracy = df['correct'].mean()\n",
    "print(f'Accuracy over {len(df)} test images: {accuracy:.2f}')"
   ]
  },
  {
   "cell_type": "code",
   "execution_count": null,
   "metadata": {},
   "outputs": [],
   "source": [
    "errors =df[~df['correct']]\n",
    "\n",
    "for i, row in errors.iterrows():\n",
    "    print(f'Error in {row[\"file_path\"]}')\n",
    "    image_view(row['file_path'])"
   ]
  },
  {
   "cell_type": "code",
   "execution_count": null,
   "metadata": {},
   "outputs": [],
   "source": []
  }
 ],
 "metadata": {
  "kernelspec": {
   "display_name": "openai",
   "language": "python",
   "name": "python3"
  },
  "language_info": {
   "codemirror_mode": {
    "name": "ipython",
    "version": 3
   },
   "file_extension": ".py",
   "mimetype": "text/x-python",
   "name": "python",
   "nbconvert_exporter": "python",
   "pygments_lexer": "ipython3",
   "version": "3.11.8"
  }
 },
 "nbformat": 4,
 "nbformat_minor": 2
}
